{
 "cells": [
  {
   "cell_type": "code",
   "execution_count": 127,
   "id": "c4186034",
   "metadata": {},
   "outputs": [
    {
     "name": "stdout",
     "output_type": "stream",
     "text": [
      "            Time        V1        V2        V3        V4        V5        V6  \\\n",
      "0            0.0 -1.359807 -0.072781  2.536347  1.378155 -0.338321  0.462388   \n",
      "1            0.0  1.191857  0.266151  0.166480  0.448154  0.060018 -0.082361   \n",
      "2            1.0 -1.358354 -1.340163  1.773209  0.379780 -0.503198  1.800499   \n",
      "3            1.0 -0.966272 -0.185226  1.792993 -0.863291 -0.010309  1.247203   \n",
      "4            2.0 -1.158233  0.877737  1.548718  0.403034 -0.407193  0.095921   \n",
      "...          ...       ...       ...       ...       ...       ...       ...   \n",
      "284802  169142.0 -1.927883  1.125653 -4.518331  1.749293 -1.566487 -2.010494   \n",
      "284803  169347.0  1.378559  1.289381 -5.004247  1.411850  0.442581 -1.326536   \n",
      "284804  169351.0 -0.676143  1.126366 -2.213700  0.468308 -1.120541 -0.003346   \n",
      "284805  169966.0 -3.113832  0.585864 -5.399730  1.817092 -0.840618 -2.943548   \n",
      "284806  170348.0  1.991976  0.158476 -2.583441  0.408670  1.151147 -0.096695   \n",
      "\n",
      "              V7        V8        V9  ...       V21       V22       V23  \\\n",
      "0       0.239599  0.098698  0.363787  ... -0.018307  0.277838 -0.110474   \n",
      "1      -0.078803  0.085102 -0.255425  ... -0.225775 -0.638672  0.101288   \n",
      "2       0.791461  0.247676 -1.514654  ...  0.247998  0.771679  0.909412   \n",
      "3       0.237609  0.377436 -1.387024  ... -0.108300  0.005274 -0.190321   \n",
      "4       0.592941 -0.270533  0.817739  ... -0.009431  0.798278 -0.137458   \n",
      "...          ...       ...       ...  ...       ...       ...       ...   \n",
      "284802 -0.882850  0.697211 -2.064945  ...  0.778584 -0.319189  0.639419   \n",
      "284803 -1.413170  0.248525 -1.127396  ...  0.370612  0.028234 -0.145640   \n",
      "284804 -2.234739  1.210158 -0.652250  ...  0.751826  0.834108  0.190944   \n",
      "284805 -2.208002  1.058733 -1.632333  ...  0.583276 -0.269209 -0.456108   \n",
      "284806  0.223050 -0.068384  0.577829  ... -0.164350 -0.295135 -0.072173   \n",
      "\n",
      "             V24       V25       V26       V27       V28  Amount  Class  \n",
      "0       0.066928  0.128539 -0.189115  0.133558 -0.021053  149.62      0  \n",
      "1      -0.339846  0.167170  0.125895 -0.008983  0.014724    2.69      0  \n",
      "2      -0.689281 -0.327642 -0.139097 -0.055353 -0.059752  378.66      0  \n",
      "3      -1.175575  0.647376 -0.221929  0.062723  0.061458  123.50      0  \n",
      "4       0.141267 -0.206010  0.502292  0.219422  0.215153   69.99      0  \n",
      "...          ...       ...       ...       ...       ...     ...    ...  \n",
      "284802 -0.294885  0.537503  0.788395  0.292680  0.147968  390.00      1  \n",
      "284803 -0.081049  0.521875  0.739467  0.389152  0.186637    0.76      1  \n",
      "284804  0.032070 -0.739695  0.471111  0.385107  0.194361   77.89      1  \n",
      "284805 -0.183659 -0.328168  0.606116  0.884876 -0.253700  245.00      1  \n",
      "284806 -0.450261  0.313267 -0.289617  0.002988 -0.015309   42.53      1  \n",
      "\n",
      "[284807 rows x 31 columns]\n"
     ]
    }
   ],
   "source": [
    "import numpy as np\n",
    "import pandas as pd\n",
    "\n",
    "df = pd.read_csv('creditcard.csv')\n",
    "print(df)"
   ]
  },
  {
   "cell_type": "code",
   "execution_count": 128,
   "id": "e482473a",
   "metadata": {},
   "outputs": [
    {
     "name": "stdout",
     "output_type": "stream",
     "text": [
      "Time      0\n",
      "V1        0\n",
      "V2        0\n",
      "V3        0\n",
      "V4        0\n",
      "V5        0\n",
      "V6        0\n",
      "V7        0\n",
      "V8        0\n",
      "V9        0\n",
      "V10       0\n",
      "V11       0\n",
      "V12       0\n",
      "V13       0\n",
      "V14       0\n",
      "V15       0\n",
      "V16       0\n",
      "V17       0\n",
      "V18       0\n",
      "V19       0\n",
      "V20       0\n",
      "V21       0\n",
      "V22       0\n",
      "V23       0\n",
      "V24       0\n",
      "V25       0\n",
      "V26       0\n",
      "V27       0\n",
      "V28       0\n",
      "Amount    0\n",
      "Class     0\n",
      "dtype: int64\n"
     ]
    }
   ],
   "source": [
    "#checking for null_values\n",
    "null_values = df.isnull().sum()\n",
    "#count null values for eachn column\n",
    "print(null_values)"
   ]
  },
  {
   "cell_type": "code",
   "execution_count": 129,
   "id": "e167b091",
   "metadata": {},
   "outputs": [],
   "source": [
    "#the dataset has been sorted  in ascending order by the Class or \"label\" to be able to get only lables of 0 in the\n",
    "#train set(this is to help it learn what a \"normal\" or a 0 should look like) and labels of 1 and 0 in the cross-validation set\n",
    "#to help test the accuracy of what was trained in the train set by seeing how many anommalies it accurately flags down"
   ]
  },
  {
   "cell_type": "code",
   "execution_count": 130,
   "id": "ec88368a",
   "metadata": {},
   "outputs": [
    {
     "name": "stdout",
     "output_type": "stream",
     "text": [
      "Shape of X: (284807, 30)\n",
      "Shape of y: (284807,)\n"
     ]
    }
   ],
   "source": [
    "#Define training Set\n",
    "X = df.iloc[:, 1:].values  # All columns except the last one\n",
    "y = df.iloc[:, -1].values   # Only the last column\n",
    "\n",
    "\n",
    "# Displaying the shapes of X and y to verify\n",
    "\n",
    "print(\"Shape of X:\", X.shape)\n",
    "print(\"Shape of y:\", y.shape)"
   ]
  },
  {
   "cell_type": "code",
   "execution_count": 139,
   "id": "9c6ee5f8",
   "metadata": {},
   "outputs": [
    {
     "name": "stdout",
     "output_type": "stream",
     "text": [
      "the shape of the training set (input) is: (284000, 30)\n",
      "the shape of the training set (target) is: (284000,)\n",
      "\n",
      "the shape of the cross validation set (input) is: (807, 30)\n",
      "the shape of the cross validation set (target) is: (807,)\n",
      "\n"
     ]
    }
   ],
   "source": [
    "#Splitting into train set and cross validation set and test set to evaluate the model for high bias or high variance\n",
    "\n",
    "x_train = X[:284000]\n",
    "y_train = y[:284000]\n",
    "\n",
    "x_cv = X[284000:]\n",
    "y_cv = y[284000:]\n",
    "\n",
    "\n",
    "\n",
    "\n",
    "print(f\"the shape of the training set (input) is: {x_train.shape}\")\n",
    "print(f\"the shape of the training set (target) is: {y_train.shape}\\n\")\n",
    "print(f\"the shape of the cross validation set (input) is: {x_cv.shape}\")\n",
    "print(f\"the shape of the cross validation set (target) is: {y_cv.shape}\\n\")\n",
    "\n"
   ]
  },
  {
   "cell_type": "code",
   "execution_count": 140,
   "id": "457b05d4",
   "metadata": {},
   "outputs": [],
   "source": [
    "def estimate_gaussian(X): \n",
    "    \"\"\"\n",
    "    Calculates mean and variance of all features \n",
    "    in the dataset\n",
    "    \n",
    "    Args:\n",
    "        X (ndarray): (m, n) Data matrix\n",
    "    \n",
    "    Returns:\n",
    "        mu (ndarray): (n,) Mean of all features\n",
    "        var (ndarray): (n,) Variance of all features\n",
    "    \"\"\"\n",
    "\n",
    "    m, n = X.shape\n",
    "    mu = np.zeros(n)\n",
    "    var = np.zeros(n)\n",
    "    ### START CODE HERE ### \n",
    "    for j in range(n):\n",
    "        #for each feature in all the training examples\n",
    "        x_feat = X[:,j]\n",
    "        mu[j] = np.mean(x_feat)\n",
    "        var[j] =  np.var(x_feat)\n",
    "    \n",
    "    \n",
    "    ### END CODE HERE ### \n",
    "        \n",
    "    return mu, var"
   ]
  },
  {
   "cell_type": "code",
   "execution_count": 141,
   "id": "768d1025",
   "metadata": {},
   "outputs": [
    {
     "name": "stdout",
     "output_type": "stream",
     "text": [
      "Mean of each feature: [ 8.46928090e-03 -6.83509843e-03  1.30170501e-02 -7.71014101e-03\n",
      "  5.17514263e-03  2.50981703e-03  9.48763401e-03 -1.20853186e-03\n",
      "  4.49318494e-03  9.81603460e-03 -6.13000775e-03  1.05666158e-02\n",
      "  1.71822994e-04  1.21901600e-02  4.16688647e-04  7.11683274e-03\n",
      "  1.15556951e-02  3.79485786e-03 -1.11179200e-03 -6.54405721e-04\n",
      " -1.27304247e-03 -1.19829121e-04  3.27196085e-05  1.98977978e-04\n",
      "  5.10346719e-05 -7.91895869e-05 -3.15921256e-04 -1.57065672e-04\n",
      "  8.83115518e+01  0.00000000e+00]\n",
      "Variance of each feature: [3.72315286e+00 2.67669761e+00 2.12878675e+00 1.95756230e+00\n",
      " 1.84171599e+00 1.76853274e+00 1.38981819e+00 1.34857883e+00\n",
      " 1.18674859e+00 1.08977911e+00 1.00622266e+00 8.95160793e-01\n",
      " 9.90395720e-01 8.04515554e-01 8.37511627e-01 7.13655025e-01\n",
      " 5.61648055e-01 6.80606779e-01 6.58849936e-01 5.92279225e-01\n",
      " 5.14031380e-01 5.23606165e-01 3.86626256e-01 3.66974025e-01\n",
      " 2.71041838e-01 2.32553563e-01 1.59880835e-01 1.08694158e-01\n",
      " 6.25976244e+04 0.00000000e+00]\n",
      "Shape of X: (30,)\n",
      "Shape of y: (30,)\n"
     ]
    }
   ],
   "source": [
    "# Estimate mean and variance of each feature\n",
    "mu, var = estimate_gaussian(x_train)              \n",
    "\n",
    "print(\"Mean of each feature:\", mu)\n",
    "print(\"Variance of each feature:\", var)\n",
    "\n",
    "print(\"Shape of X:\", mu.shape)\n",
    "print(\"Shape of y:\", var.shape)"
   ]
  },
  {
   "cell_type": "code",
   "execution_count": 142,
   "id": "ff45d041",
   "metadata": {},
   "outputs": [],
   "source": [
    "from scipy.stats import multivariate_normal\n",
    "#returns the probability of each trainihg example\n",
    "def multivariate_gaussian(X, mu, var):\n",
    "    pdf_values = multivariate_normal.pdf(X, mean=mu, cov=var, allow_singular=True)\n",
    "    return pdf_values\n",
    " \n",
    "\n",
    "p = multivariate_gaussian(x_cv, mu, var)\n"
   ]
  },
  {
   "cell_type": "code",
   "execution_count": 143,
   "id": "3bd898de",
   "metadata": {},
   "outputs": [],
   "source": [
    "#select_threshold\n",
    "#finding a threshold that produces the highest F1 score and balances:\n",
    "#precision i.e(true positives (predicition and y = 1) in the total amount of flagged positives(i.e predicition = 1))\n",
    "#recall i.e(true positives(prediction and y =1) in total amount of actual positves (i.e y_val = 1))\n",
    "\n",
    "def select_threshold(y_val, p_val): \n",
    "    \"\"\"\n",
    "    Finds the best threshold to use for selecting outliers \n",
    "    based on the results from a validation set (p_val) \n",
    "    and the ground truth (y_val)\n",
    "    \n",
    "    Args:\n",
    "        y_val (ndarray): Ground truth on validation set\n",
    "        p_val (ndarray): Results on validation set\n",
    "        \n",
    "    Returns:\n",
    "        epsilon (float): Threshold chosen \n",
    "        F1 (float):      F1 score by choosing epsilon as threshold\n",
    "    \"\"\" \n",
    "\n",
    "    best_epsilon = 0\n",
    "    best_F1 = 0\n",
    "    F1 = 0\n",
    "    \n",
    "    step_size = (max(p_val) - min(p_val)) / 1000\n",
    "    \n",
    "    for epsilon in np.arange(min(p_val), max(p_val), step_size):\n",
    "        #iterating through different values of epsilon that range from the minimum y_pred to the\n",
    "        #maximum y_pred\n",
    "    \n",
    "        ### START CODE HERE ### \n",
    "        #comparing this particular value of epsilon to the list of our predicted values returning 1 if less than\n",
    "        #epsilon and 0 if greater than epsilon\n",
    "        #returns an array of trues and falses i.e 1's and 0's\n",
    "        predictions = (p_val < epsilon)\n",
    "        \n",
    "        #using the predictions to find the number of true positives, false positives and false negatives as shown\n",
    "\n",
    "        tp = np.sum((predictions == 1) & (y_val == 1))\n",
    "        fp = np.sum((predictions == 1) & (y_val == 0))\n",
    "      \n",
    "        fn = np.sum((predictions == 0) & (y_val == 1))\n",
    "\n",
    "    \n",
    "        if tp != 0 and (tp + fp) != 0 and  (tp + fn) != 0:\n",
    "            precision = tp/(tp + fp)\n",
    "            recall = tp/(tp + fn)\n",
    "            F1 = (2*precision*recall)/(precision + recall)\n",
    "            if F1 > best_F1:\n",
    "                best_F1 = F1\n",
    "                best_epsilon = epsilon\n",
    "      \n",
    "        \n",
    "        \n",
    "        ### END CODE HERE ### \n",
    "#       \n",
    "        \n",
    "    return best_epsilon, best_F1"
   ]
  },
  {
   "cell_type": "code",
   "execution_count": 144,
   "id": "8fc0f70b",
   "metadata": {},
   "outputs": [
    {
     "name": "stdout",
     "output_type": "stream",
     "text": [
      "1.1689167343541925e-17\n",
      "0.8448430493273543\n"
     ]
    }
   ],
   "source": [
    "epsilon,F1 = select_threshold(y_cv, p)\n",
    "print(epsilon)\n",
    "print(F1)"
   ]
  },
  {
   "cell_type": "code",
   "execution_count": 146,
   "id": "501808e1",
   "metadata": {},
   "outputs": [
    {
     "name": "stdout",
     "output_type": "stream",
     "text": [
      "# Anomalies found: 623\n",
      "# Actual Anomalies: 492\n"
     ]
    }
   ],
   "source": [
    "pred =sum(p < epsilon)\n",
    "actual = sum(y_cv)\n",
    "print('# Anomalies found: %d'%pred )\n",
    "print('# Actual Anomalies: %d'%actual)\n",
    "\n"
   ]
  },
  {
   "cell_type": "code",
   "execution_count": null,
   "id": "c8454794",
   "metadata": {},
   "outputs": [],
   "source": [
    "#we see that that epsilon is the best threshold value with an error rate of 22% that is\n",
    "#only 2 in 10 of predicted values were not anomalies"
   ]
  }
 ],
 "metadata": {
  "kernelspec": {
   "display_name": "Python 3",
   "language": "python",
   "name": "python3"
  },
  "language_info": {
   "codemirror_mode": {
    "name": "ipython",
    "version": 3
   },
   "file_extension": ".py",
   "mimetype": "text/x-python",
   "name": "python",
   "nbconvert_exporter": "python",
   "pygments_lexer": "ipython3",
   "version": "3.6.13"
  }
 },
 "nbformat": 4,
 "nbformat_minor": 5
}
